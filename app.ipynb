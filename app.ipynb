{
 "cells": [
  {
   "cell_type": "code",
   "execution_count": 10,
   "id": "41e20db4",
   "metadata": {},
   "outputs": [],
   "source": [
    "import pandas as pd"
   ]
  },
  {
   "cell_type": "code",
   "execution_count": 11,
   "id": "28ce8f86",
   "metadata": {},
   "outputs": [],
   "source": [
    "file_path = (\"Calendário.xlsx\")\n",
    "df = pd.read_excel(file_path)"
   ]
  },
  {
   "cell_type": "code",
   "execution_count": 12,
   "id": "cabe72ad",
   "metadata": {},
   "outputs": [
    {
     "data": {
      "application/vnd.microsoft.datawrangler.viewer.v0+json": {
       "columns": [
        {
         "name": "index",
         "rawType": "int64",
         "type": "integer"
        },
        {
         "name": "CURSO",
         "rawType": "object",
         "type": "string"
        },
        {
         "name": "PERÍODO",
         "rawType": "object",
         "type": "string"
        },
        {
         "name": "TIPO DE AVALIAÇÃO",
         "rawType": "object",
         "type": "string"
        },
        {
         "name": "CÓDIGO",
         "rawType": "object",
         "type": "string"
        },
        {
         "name": "DATAS DASAVALIAÇÕE",
         "rawType": "object",
         "type": "unknown"
        },
        {
         "name": "MANHÃ",
         "rawType": "object",
         "type": "string"
        },
        {
         "name": "RECEBIDA EM",
         "rawType": "object",
         "type": "unknown"
        },
        {
         "name": "DOCENTE",
         "rawType": "object",
         "type": "unknown"
        },
        {
         "name": "PRAZO",
         "rawType": "object",
         "type": "string"
        },
        {
         "name": "APLICAR",
         "rawType": "object",
         "type": "unknown"
        },
        {
         "name": "APLICADA",
         "rawType": "object",
         "type": "unknown"
        },
        {
         "name": "INÍCIO DO TESTE",
         "rawType": "object",
         "type": "unknown"
        },
        {
         "name": "TÉRMINO DO TESTE",
         "rawType": "object",
         "type": "unknown"
        },
        {
         "name": "QTD DE DISCENTES ",
         "rawType": "object",
         "type": "unknown"
        },
        {
         "name": "SALA ",
         "rawType": "object",
         "type": "unknown"
        },
        {
         "name": "Situação",
         "rawType": "object",
         "type": "unknown"
        },
        {
         "name": "Tipo de Dispositivo",
         "rawType": "object",
         "type": "unknown"
        },
        {
         "name": "Mês/Ano Avaliação",
         "rawType": "object",
         "type": "unknown"
        }
       ],
       "ref": "b00ca68a-abd7-45ce-9ced-7eb05c2841d0",
       "rows": [
        [
         "0",
         "ODONTOLOGIA",
         "1º",
         "MÓDULO 4 - AVALIAÇÃO QME",
         "OD01-02",
         "2025-02-20 00:00:00",
         "TARDE",
         null,
         null,
         "SEM DATA DE RECEBIMENTO",
         null,
         null,
         null,
         null,
         null,
         null,
         null,
         null,
         "2025-02-01 00:00:00"
        ],
        [
         "1",
         "NUTRIÇÃO",
         "1º",
         "MODULO 1- TC QME",
         "NTR01-02",
         "2025-02-18 00:00:00",
         "MANHÃ",
         "2025-02-18 00:00:00",
         "Derberson",
         "FORA DO PRAZO",
         "APLICAR",
         null,
         null,
         null,
         null,
         null,
         null,
         null,
         "2025-02-01 00:00:00"
        ],
        [
         "2",
         "FISIOTERAPIA",
         "5º",
         "MÓDULO 1 -  TC QA",
         "FST05-45",
         "2025-02-18 00:00:00",
         "MANHÃ",
         "2025-02-14 00:00:00",
         "Renata Firmo",
         "FORA DO PRAZO",
         "APLICAR",
         null,
         "11h30",
         "12h00",
         null,
         null,
         null,
         null,
         "2025-02-01 00:00:00"
        ],
        [
         "3",
         "EDU.FÍSICA",
         "1º",
         "MODULO 1 - FINAL QME",
         "EFB01-01",
         "2025-05-27 00:00:00",
         "MANHÃ",
         "2025-05-21 00:00:00",
         "Maria julia",
         "FORA DO PRAZO",
         "APLICAR",
         "APLICADA",
         "09H00",
         "10H30",
         "2",
         "TUT09",
         "Recolhida",
         null,
         "2025-05-01 00:00:00"
        ],
        [
         "4",
         "PSICOLOGIA",
         "5º",
         "MÓDULO 4 - TC QME ",
         "PCO05-44",
         "2025-05-27 00:00:00",
         "MANHÃ",
         "2025-05-20 00:00:00",
         "juliana Monteiro",
         "DENTRO DO PRAZO",
         "APLICAR",
         "APLICADA",
         "09H00",
         "09H50",
         "45",
         "BL.B1-14",
         "Recolhida",
         null,
         "2025-05-01 00:00:00"
        ]
       ],
       "shape": {
        "columns": 18,
        "rows": 5
       }
      },
      "text/html": [
       "<div>\n",
       "<style scoped>\n",
       "    .dataframe tbody tr th:only-of-type {\n",
       "        vertical-align: middle;\n",
       "    }\n",
       "\n",
       "    .dataframe tbody tr th {\n",
       "        vertical-align: top;\n",
       "    }\n",
       "\n",
       "    .dataframe thead th {\n",
       "        text-align: right;\n",
       "    }\n",
       "</style>\n",
       "<table border=\"1\" class=\"dataframe\">\n",
       "  <thead>\n",
       "    <tr style=\"text-align: right;\">\n",
       "      <th></th>\n",
       "      <th>CURSO</th>\n",
       "      <th>PERÍODO</th>\n",
       "      <th>TIPO DE AVALIAÇÃO</th>\n",
       "      <th>CÓDIGO</th>\n",
       "      <th>DATAS DASAVALIAÇÕE</th>\n",
       "      <th>MANHÃ</th>\n",
       "      <th>RECEBIDA EM</th>\n",
       "      <th>DOCENTE</th>\n",
       "      <th>PRAZO</th>\n",
       "      <th>APLICAR</th>\n",
       "      <th>APLICADA</th>\n",
       "      <th>INÍCIO DO TESTE</th>\n",
       "      <th>TÉRMINO DO TESTE</th>\n",
       "      <th>QTD DE DISCENTES</th>\n",
       "      <th>SALA</th>\n",
       "      <th>Situação</th>\n",
       "      <th>Tipo de Dispositivo</th>\n",
       "      <th>Mês/Ano Avaliação</th>\n",
       "    </tr>\n",
       "  </thead>\n",
       "  <tbody>\n",
       "    <tr>\n",
       "      <th>0</th>\n",
       "      <td>ODONTOLOGIA</td>\n",
       "      <td>1º</td>\n",
       "      <td>MÓDULO 4 - AVALIAÇÃO QME</td>\n",
       "      <td>OD01-02</td>\n",
       "      <td>2025-02-20 00:00:00</td>\n",
       "      <td>TARDE</td>\n",
       "      <td>NaN</td>\n",
       "      <td>NaN</td>\n",
       "      <td>SEM DATA DE RECEBIMENTO</td>\n",
       "      <td>NaN</td>\n",
       "      <td>NaN</td>\n",
       "      <td>NaN</td>\n",
       "      <td>NaN</td>\n",
       "      <td>NaN</td>\n",
       "      <td>NaN</td>\n",
       "      <td>NaN</td>\n",
       "      <td>NaN</td>\n",
       "      <td>2025-02-01 00:00:00</td>\n",
       "    </tr>\n",
       "    <tr>\n",
       "      <th>1</th>\n",
       "      <td>NUTRIÇÃO</td>\n",
       "      <td>1º</td>\n",
       "      <td>MODULO 1- TC QME</td>\n",
       "      <td>NTR01-02</td>\n",
       "      <td>2025-02-18 00:00:00</td>\n",
       "      <td>MANHÃ</td>\n",
       "      <td>2025-02-18 00:00:00</td>\n",
       "      <td>Derberson</td>\n",
       "      <td>FORA DO PRAZO</td>\n",
       "      <td>APLICAR</td>\n",
       "      <td>NaN</td>\n",
       "      <td>NaN</td>\n",
       "      <td>NaN</td>\n",
       "      <td>NaN</td>\n",
       "      <td>NaN</td>\n",
       "      <td>NaN</td>\n",
       "      <td>NaN</td>\n",
       "      <td>2025-02-01 00:00:00</td>\n",
       "    </tr>\n",
       "    <tr>\n",
       "      <th>2</th>\n",
       "      <td>FISIOTERAPIA</td>\n",
       "      <td>5º</td>\n",
       "      <td>MÓDULO 1 -  TC QA</td>\n",
       "      <td>FST05-45</td>\n",
       "      <td>2025-02-18 00:00:00</td>\n",
       "      <td>MANHÃ</td>\n",
       "      <td>2025-02-14 00:00:00</td>\n",
       "      <td>Renata Firmo</td>\n",
       "      <td>FORA DO PRAZO</td>\n",
       "      <td>APLICAR</td>\n",
       "      <td>NaN</td>\n",
       "      <td>11h30</td>\n",
       "      <td>12h00</td>\n",
       "      <td>NaN</td>\n",
       "      <td>NaN</td>\n",
       "      <td>NaN</td>\n",
       "      <td>NaN</td>\n",
       "      <td>2025-02-01 00:00:00</td>\n",
       "    </tr>\n",
       "    <tr>\n",
       "      <th>3</th>\n",
       "      <td>EDU.FÍSICA</td>\n",
       "      <td>1º</td>\n",
       "      <td>MODULO 1 - FINAL QME</td>\n",
       "      <td>EFB01-01</td>\n",
       "      <td>2025-05-27 00:00:00</td>\n",
       "      <td>MANHÃ</td>\n",
       "      <td>2025-05-21 00:00:00</td>\n",
       "      <td>Maria julia</td>\n",
       "      <td>FORA DO PRAZO</td>\n",
       "      <td>APLICAR</td>\n",
       "      <td>APLICADA</td>\n",
       "      <td>09H00</td>\n",
       "      <td>10H30</td>\n",
       "      <td>2</td>\n",
       "      <td>TUT09</td>\n",
       "      <td>Recolhida</td>\n",
       "      <td>NaN</td>\n",
       "      <td>2025-05-01 00:00:00</td>\n",
       "    </tr>\n",
       "    <tr>\n",
       "      <th>4</th>\n",
       "      <td>PSICOLOGIA</td>\n",
       "      <td>5º</td>\n",
       "      <td>MÓDULO 4 - TC QME</td>\n",
       "      <td>PCO05-44</td>\n",
       "      <td>2025-05-27 00:00:00</td>\n",
       "      <td>MANHÃ</td>\n",
       "      <td>2025-05-20 00:00:00</td>\n",
       "      <td>juliana Monteiro</td>\n",
       "      <td>DENTRO DO PRAZO</td>\n",
       "      <td>APLICAR</td>\n",
       "      <td>APLICADA</td>\n",
       "      <td>09H00</td>\n",
       "      <td>09H50</td>\n",
       "      <td>45</td>\n",
       "      <td>BL.B1-14</td>\n",
       "      <td>Recolhida</td>\n",
       "      <td>NaN</td>\n",
       "      <td>2025-05-01 00:00:00</td>\n",
       "    </tr>\n",
       "  </tbody>\n",
       "</table>\n",
       "</div>"
      ],
      "text/plain": [
       "          CURSO PERÍODO         TIPO DE AVALIAÇÃO    CÓDIGO  \\\n",
       "0   ODONTOLOGIA      1º  MÓDULO 4 - AVALIAÇÃO QME   OD01-02   \n",
       "1      NUTRIÇÃO      1º          MODULO 1- TC QME  NTR01-02   \n",
       "2  FISIOTERAPIA      5º         MÓDULO 1 -  TC QA  FST05-45   \n",
       "3    EDU.FÍSICA      1º      MODULO 1 - FINAL QME  EFB01-01   \n",
       "4    PSICOLOGIA      5º        MÓDULO 4 - TC QME   PCO05-44   \n",
       "\n",
       "    DATAS DASAVALIAÇÕE  MANHÃ          RECEBIDA EM           DOCENTE  \\\n",
       "0  2025-02-20 00:00:00  TARDE                  NaN               NaN   \n",
       "1  2025-02-18 00:00:00  MANHÃ  2025-02-18 00:00:00         Derberson   \n",
       "2  2025-02-18 00:00:00  MANHÃ  2025-02-14 00:00:00      Renata Firmo   \n",
       "3  2025-05-27 00:00:00  MANHÃ  2025-05-21 00:00:00       Maria julia   \n",
       "4  2025-05-27 00:00:00  MANHÃ  2025-05-20 00:00:00  juliana Monteiro   \n",
       "\n",
       "                     PRAZO  APLICAR  APLICADA INÍCIO DO TESTE  \\\n",
       "0  SEM DATA DE RECEBIMENTO      NaN       NaN             NaN   \n",
       "1            FORA DO PRAZO  APLICAR       NaN             NaN   \n",
       "2            FORA DO PRAZO  APLICAR       NaN           11h30   \n",
       "3            FORA DO PRAZO  APLICAR  APLICADA           09H00   \n",
       "4          DENTRO DO PRAZO  APLICAR  APLICADA           09H00   \n",
       "\n",
       "  TÉRMINO DO TESTE QTD DE DISCENTES      SALA    Situação Tipo de Dispositivo  \\\n",
       "0              NaN               NaN       NaN        NaN                 NaN   \n",
       "1              NaN               NaN       NaN        NaN                 NaN   \n",
       "2            12h00               NaN       NaN        NaN                 NaN   \n",
       "3            10H30                 2     TUT09  Recolhida                 NaN   \n",
       "4            09H50                45  BL.B1-14  Recolhida                 NaN   \n",
       "\n",
       "     Mês/Ano Avaliação  \n",
       "0  2025-02-01 00:00:00  \n",
       "1  2025-02-01 00:00:00  \n",
       "2  2025-02-01 00:00:00  \n",
       "3  2025-05-01 00:00:00  \n",
       "4  2025-05-01 00:00:00  "
      ]
     },
     "execution_count": 12,
     "metadata": {},
     "output_type": "execute_result"
    }
   ],
   "source": [
    "df.head()"
   ]
  },
  {
   "cell_type": "code",
   "execution_count": 22,
   "id": "4e469b8b",
   "metadata": {},
   "outputs": [],
   "source": [
    "df['DATAS DASAVALIAÇÕE'] = pd.to_datetime(df['DATAS DASAVALIAÇÕE'], errors='coerce').dt.strftime('%d/%m/%Y')\n"
   ]
  },
  {
   "cell_type": "code",
   "execution_count": 23,
   "id": "53502590",
   "metadata": {},
   "outputs": [
    {
     "data": {
      "application/vnd.microsoft.datawrangler.viewer.v0+json": {
       "columns": [
        {
         "name": "index",
         "rawType": "object",
         "type": "string"
        },
        {
         "name": "0",
         "rawType": "object",
         "type": "unknown"
        }
       ],
       "ref": "13f812bd-7af4-4a99-8d36-f51f6c6afcc9",
       "rows": [
        [
         "CURSO",
         "object"
        ],
        [
         "PERÍODO",
         "object"
        ],
        [
         "TIPO DE AVALIAÇÃO",
         "object"
        ],
        [
         "CÓDIGO",
         "object"
        ],
        [
         "DATAS DASAVALIAÇÕE",
         "object"
        ],
        [
         "MANHÃ",
         "object"
        ],
        [
         "RECEBIDA EM",
         "object"
        ],
        [
         "DOCENTE",
         "object"
        ],
        [
         "PRAZO",
         "object"
        ],
        [
         "APLICAR",
         "object"
        ],
        [
         "APLICADA",
         "object"
        ],
        [
         "INÍCIO DO TESTE",
         "object"
        ],
        [
         "TÉRMINO DO TESTE",
         "object"
        ],
        [
         "QTD DE DISCENTES ",
         "object"
        ],
        [
         "SALA ",
         "object"
        ],
        [
         "Situação",
         "object"
        ],
        [
         "Tipo de Dispositivo",
         "object"
        ],
        [
         "Mês/Ano Avaliação",
         "object"
        ]
       ],
       "shape": {
        "columns": 1,
        "rows": 18
       }
      },
      "text/plain": [
       "CURSO                  object\n",
       "PERÍODO                object\n",
       "TIPO DE AVALIAÇÃO      object\n",
       "CÓDIGO                 object\n",
       "DATAS DASAVALIAÇÕE     object\n",
       "MANHÃ                  object\n",
       "RECEBIDA EM            object\n",
       "DOCENTE                object\n",
       "PRAZO                  object\n",
       "APLICAR                object\n",
       "APLICADA               object\n",
       "INÍCIO DO TESTE        object\n",
       "TÉRMINO DO TESTE       object\n",
       "QTD DE DISCENTES       object\n",
       "SALA                   object\n",
       "Situação               object\n",
       "Tipo de Dispositivo    object\n",
       "Mês/Ano Avaliação      object\n",
       "dtype: object"
      ]
     },
     "execution_count": 23,
     "metadata": {},
     "output_type": "execute_result"
    }
   ],
   "source": [
    "df.dtypes"
   ]
  },
  {
   "cell_type": "code",
   "execution_count": 24,
   "id": "0c76dbf6",
   "metadata": {},
   "outputs": [
    {
     "data": {
      "application/vnd.microsoft.datawrangler.viewer.v0+json": {
       "columns": [
        {
         "name": "index",
         "rawType": "int64",
         "type": "integer"
        },
        {
         "name": "CURSO",
         "rawType": "object",
         "type": "string"
        },
        {
         "name": "PERÍODO",
         "rawType": "object",
         "type": "string"
        },
        {
         "name": "TIPO DE AVALIAÇÃO",
         "rawType": "object",
         "type": "string"
        },
        {
         "name": "CÓDIGO",
         "rawType": "object",
         "type": "string"
        },
        {
         "name": "DATAS DASAVALIAÇÕE",
         "rawType": "object",
         "type": "string"
        },
        {
         "name": "MANHÃ",
         "rawType": "object",
         "type": "string"
        },
        {
         "name": "RECEBIDA EM",
         "rawType": "object",
         "type": "unknown"
        },
        {
         "name": "DOCENTE",
         "rawType": "object",
         "type": "unknown"
        },
        {
         "name": "PRAZO",
         "rawType": "object",
         "type": "string"
        },
        {
         "name": "APLICAR",
         "rawType": "object",
         "type": "unknown"
        },
        {
         "name": "APLICADA",
         "rawType": "object",
         "type": "unknown"
        },
        {
         "name": "INÍCIO DO TESTE",
         "rawType": "object",
         "type": "unknown"
        },
        {
         "name": "TÉRMINO DO TESTE",
         "rawType": "object",
         "type": "unknown"
        },
        {
         "name": "QTD DE DISCENTES ",
         "rawType": "object",
         "type": "unknown"
        },
        {
         "name": "SALA ",
         "rawType": "object",
         "type": "unknown"
        },
        {
         "name": "Situação",
         "rawType": "object",
         "type": "unknown"
        },
        {
         "name": "Tipo de Dispositivo",
         "rawType": "object",
         "type": "unknown"
        },
        {
         "name": "Mês/Ano Avaliação",
         "rawType": "object",
         "type": "unknown"
        }
       ],
       "ref": "8576e9bd-bd43-49eb-bf5f-58ddf3668d0b",
       "rows": [
        [
         "0",
         "ODONTOLOGIA",
         "1º",
         "MÓDULO 4 - AVALIAÇÃO QME",
         "OD01-02",
         "20/02/2025",
         "TARDE",
         null,
         null,
         "SEM DATA DE RECEBIMENTO",
         null,
         null,
         null,
         null,
         null,
         null,
         null,
         null,
         "2025-02-01 00:00:00"
        ],
        [
         "1",
         "NUTRIÇÃO",
         "1º",
         "MODULO 1- TC QME",
         "NTR01-02",
         "18/02/2025",
         "MANHÃ",
         "2025-02-18 00:00:00",
         "Derberson",
         "FORA DO PRAZO",
         "APLICAR",
         null,
         null,
         null,
         null,
         null,
         null,
         null,
         "2025-02-01 00:00:00"
        ],
        [
         "2",
         "FISIOTERAPIA",
         "5º",
         "MÓDULO 1 -  TC QA",
         "FST05-45",
         "18/02/2025",
         "MANHÃ",
         "2025-02-14 00:00:00",
         "Renata Firmo",
         "FORA DO PRAZO",
         "APLICAR",
         null,
         "11h30",
         "12h00",
         null,
         null,
         null,
         null,
         "2025-02-01 00:00:00"
        ],
        [
         "3",
         "EDU.FÍSICA",
         "1º",
         "MODULO 1 - FINAL QME",
         "EFB01-01",
         "27/05/2025",
         "MANHÃ",
         "2025-05-21 00:00:00",
         "Maria julia",
         "FORA DO PRAZO",
         "APLICAR",
         "APLICADA",
         "09H00",
         "10H30",
         "2",
         "TUT09",
         "Recolhida",
         null,
         "2025-05-01 00:00:00"
        ],
        [
         "4",
         "PSICOLOGIA",
         "5º",
         "MÓDULO 4 - TC QME ",
         "PCO05-44",
         "27/05/2025",
         "MANHÃ",
         "2025-05-20 00:00:00",
         "juliana Monteiro",
         "DENTRO DO PRAZO",
         "APLICAR",
         "APLICADA",
         "09H00",
         "09H50",
         "45",
         "BL.B1-14",
         "Recolhida",
         null,
         "2025-05-01 00:00:00"
        ]
       ],
       "shape": {
        "columns": 18,
        "rows": 5
       }
      },
      "text/html": [
       "<div>\n",
       "<style scoped>\n",
       "    .dataframe tbody tr th:only-of-type {\n",
       "        vertical-align: middle;\n",
       "    }\n",
       "\n",
       "    .dataframe tbody tr th {\n",
       "        vertical-align: top;\n",
       "    }\n",
       "\n",
       "    .dataframe thead th {\n",
       "        text-align: right;\n",
       "    }\n",
       "</style>\n",
       "<table border=\"1\" class=\"dataframe\">\n",
       "  <thead>\n",
       "    <tr style=\"text-align: right;\">\n",
       "      <th></th>\n",
       "      <th>CURSO</th>\n",
       "      <th>PERÍODO</th>\n",
       "      <th>TIPO DE AVALIAÇÃO</th>\n",
       "      <th>CÓDIGO</th>\n",
       "      <th>DATAS DASAVALIAÇÕE</th>\n",
       "      <th>MANHÃ</th>\n",
       "      <th>RECEBIDA EM</th>\n",
       "      <th>DOCENTE</th>\n",
       "      <th>PRAZO</th>\n",
       "      <th>APLICAR</th>\n",
       "      <th>APLICADA</th>\n",
       "      <th>INÍCIO DO TESTE</th>\n",
       "      <th>TÉRMINO DO TESTE</th>\n",
       "      <th>QTD DE DISCENTES</th>\n",
       "      <th>SALA</th>\n",
       "      <th>Situação</th>\n",
       "      <th>Tipo de Dispositivo</th>\n",
       "      <th>Mês/Ano Avaliação</th>\n",
       "    </tr>\n",
       "  </thead>\n",
       "  <tbody>\n",
       "    <tr>\n",
       "      <th>0</th>\n",
       "      <td>ODONTOLOGIA</td>\n",
       "      <td>1º</td>\n",
       "      <td>MÓDULO 4 - AVALIAÇÃO QME</td>\n",
       "      <td>OD01-02</td>\n",
       "      <td>20/02/2025</td>\n",
       "      <td>TARDE</td>\n",
       "      <td>NaN</td>\n",
       "      <td>NaN</td>\n",
       "      <td>SEM DATA DE RECEBIMENTO</td>\n",
       "      <td>NaN</td>\n",
       "      <td>NaN</td>\n",
       "      <td>NaN</td>\n",
       "      <td>NaN</td>\n",
       "      <td>NaN</td>\n",
       "      <td>NaN</td>\n",
       "      <td>NaN</td>\n",
       "      <td>NaN</td>\n",
       "      <td>2025-02-01 00:00:00</td>\n",
       "    </tr>\n",
       "    <tr>\n",
       "      <th>1</th>\n",
       "      <td>NUTRIÇÃO</td>\n",
       "      <td>1º</td>\n",
       "      <td>MODULO 1- TC QME</td>\n",
       "      <td>NTR01-02</td>\n",
       "      <td>18/02/2025</td>\n",
       "      <td>MANHÃ</td>\n",
       "      <td>2025-02-18 00:00:00</td>\n",
       "      <td>Derberson</td>\n",
       "      <td>FORA DO PRAZO</td>\n",
       "      <td>APLICAR</td>\n",
       "      <td>NaN</td>\n",
       "      <td>NaN</td>\n",
       "      <td>NaN</td>\n",
       "      <td>NaN</td>\n",
       "      <td>NaN</td>\n",
       "      <td>NaN</td>\n",
       "      <td>NaN</td>\n",
       "      <td>2025-02-01 00:00:00</td>\n",
       "    </tr>\n",
       "    <tr>\n",
       "      <th>2</th>\n",
       "      <td>FISIOTERAPIA</td>\n",
       "      <td>5º</td>\n",
       "      <td>MÓDULO 1 -  TC QA</td>\n",
       "      <td>FST05-45</td>\n",
       "      <td>18/02/2025</td>\n",
       "      <td>MANHÃ</td>\n",
       "      <td>2025-02-14 00:00:00</td>\n",
       "      <td>Renata Firmo</td>\n",
       "      <td>FORA DO PRAZO</td>\n",
       "      <td>APLICAR</td>\n",
       "      <td>NaN</td>\n",
       "      <td>11h30</td>\n",
       "      <td>12h00</td>\n",
       "      <td>NaN</td>\n",
       "      <td>NaN</td>\n",
       "      <td>NaN</td>\n",
       "      <td>NaN</td>\n",
       "      <td>2025-02-01 00:00:00</td>\n",
       "    </tr>\n",
       "    <tr>\n",
       "      <th>3</th>\n",
       "      <td>EDU.FÍSICA</td>\n",
       "      <td>1º</td>\n",
       "      <td>MODULO 1 - FINAL QME</td>\n",
       "      <td>EFB01-01</td>\n",
       "      <td>27/05/2025</td>\n",
       "      <td>MANHÃ</td>\n",
       "      <td>2025-05-21 00:00:00</td>\n",
       "      <td>Maria julia</td>\n",
       "      <td>FORA DO PRAZO</td>\n",
       "      <td>APLICAR</td>\n",
       "      <td>APLICADA</td>\n",
       "      <td>09H00</td>\n",
       "      <td>10H30</td>\n",
       "      <td>2</td>\n",
       "      <td>TUT09</td>\n",
       "      <td>Recolhida</td>\n",
       "      <td>NaN</td>\n",
       "      <td>2025-05-01 00:00:00</td>\n",
       "    </tr>\n",
       "    <tr>\n",
       "      <th>4</th>\n",
       "      <td>PSICOLOGIA</td>\n",
       "      <td>5º</td>\n",
       "      <td>MÓDULO 4 - TC QME</td>\n",
       "      <td>PCO05-44</td>\n",
       "      <td>27/05/2025</td>\n",
       "      <td>MANHÃ</td>\n",
       "      <td>2025-05-20 00:00:00</td>\n",
       "      <td>juliana Monteiro</td>\n",
       "      <td>DENTRO DO PRAZO</td>\n",
       "      <td>APLICAR</td>\n",
       "      <td>APLICADA</td>\n",
       "      <td>09H00</td>\n",
       "      <td>09H50</td>\n",
       "      <td>45</td>\n",
       "      <td>BL.B1-14</td>\n",
       "      <td>Recolhida</td>\n",
       "      <td>NaN</td>\n",
       "      <td>2025-05-01 00:00:00</td>\n",
       "    </tr>\n",
       "  </tbody>\n",
       "</table>\n",
       "</div>"
      ],
      "text/plain": [
       "          CURSO PERÍODO         TIPO DE AVALIAÇÃO    CÓDIGO  \\\n",
       "0   ODONTOLOGIA      1º  MÓDULO 4 - AVALIAÇÃO QME   OD01-02   \n",
       "1      NUTRIÇÃO      1º          MODULO 1- TC QME  NTR01-02   \n",
       "2  FISIOTERAPIA      5º         MÓDULO 1 -  TC QA  FST05-45   \n",
       "3    EDU.FÍSICA      1º      MODULO 1 - FINAL QME  EFB01-01   \n",
       "4    PSICOLOGIA      5º        MÓDULO 4 - TC QME   PCO05-44   \n",
       "\n",
       "  DATAS DASAVALIAÇÕE  MANHÃ          RECEBIDA EM           DOCENTE  \\\n",
       "0         20/02/2025  TARDE                  NaN               NaN   \n",
       "1         18/02/2025  MANHÃ  2025-02-18 00:00:00         Derberson   \n",
       "2         18/02/2025  MANHÃ  2025-02-14 00:00:00      Renata Firmo   \n",
       "3         27/05/2025  MANHÃ  2025-05-21 00:00:00       Maria julia   \n",
       "4         27/05/2025  MANHÃ  2025-05-20 00:00:00  juliana Monteiro   \n",
       "\n",
       "                     PRAZO  APLICAR  APLICADA INÍCIO DO TESTE  \\\n",
       "0  SEM DATA DE RECEBIMENTO      NaN       NaN             NaN   \n",
       "1            FORA DO PRAZO  APLICAR       NaN             NaN   \n",
       "2            FORA DO PRAZO  APLICAR       NaN           11h30   \n",
       "3            FORA DO PRAZO  APLICAR  APLICADA           09H00   \n",
       "4          DENTRO DO PRAZO  APLICAR  APLICADA           09H00   \n",
       "\n",
       "  TÉRMINO DO TESTE QTD DE DISCENTES      SALA    Situação Tipo de Dispositivo  \\\n",
       "0              NaN               NaN       NaN        NaN                 NaN   \n",
       "1              NaN               NaN       NaN        NaN                 NaN   \n",
       "2            12h00               NaN       NaN        NaN                 NaN   \n",
       "3            10H30                 2     TUT09  Recolhida                 NaN   \n",
       "4            09H50                45  BL.B1-14  Recolhida                 NaN   \n",
       "\n",
       "     Mês/Ano Avaliação  \n",
       "0  2025-02-01 00:00:00  \n",
       "1  2025-02-01 00:00:00  \n",
       "2  2025-02-01 00:00:00  \n",
       "3  2025-05-01 00:00:00  \n",
       "4  2025-05-01 00:00:00  "
      ]
     },
     "execution_count": 24,
     "metadata": {},
     "output_type": "execute_result"
    }
   ],
   "source": [
    "df.head()"
   ]
  },
  {
   "cell_type": "code",
   "execution_count": null,
   "id": "f6014608",
   "metadata": {},
   "outputs": [],
   "source": []
  }
 ],
 "metadata": {
  "kernelspec": {
   "display_name": "Python 3",
   "language": "python",
   "name": "python3"
  },
  "language_info": {
   "codemirror_mode": {
    "name": "ipython",
    "version": 3
   },
   "file_extension": ".py",
   "mimetype": "text/x-python",
   "name": "python",
   "nbconvert_exporter": "python",
   "pygments_lexer": "ipython3",
   "version": "3.12.9"
  }
 },
 "nbformat": 4,
 "nbformat_minor": 5
}
